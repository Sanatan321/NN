{
  "nbformat": 4,
  "nbformat_minor": 0,
  "metadata": {
    "colab": {
      "name": "StockPrediction_LSTM.ipynb",
      "provenance": [],
      "mount_file_id": "1bieAh7a00ISF89XFOuyJc1Kx-vcKCTsG",
      "authorship_tag": "ABX9TyOm5vGRPnd2l9lQ2TmlJgq9"
    },
    "kernelspec": {
      "name": "python3",
      "display_name": "Python 3"
    },
    "accelerator": "GPU"
  },
  "cells": [
    {
      "cell_type": "code",
      "metadata": {
        "id": "goHg8F6YovmQ",
        "colab_type": "code",
        "colab": {}
      },
      "source": [
        "import pandas as pd\n",
        "import numpy as np\n",
        "import matplotlib.pyplot as plt\n",
        "from sklearn.preprocessing import MinMaxScaler"
      ],
      "execution_count": 0,
      "outputs": []
    },
    {
      "cell_type": "code",
      "metadata": {
        "id": "ia6AH-5BpjsH",
        "colab_type": "code",
        "colab": {}
      },
      "source": [
        "data =pd.read_csv('/content/drive/My Drive/Colab Notebooks/RELIANCE.csv')"
      ],
      "execution_count": 0,
      "outputs": []
    },
    {
      "cell_type": "code",
      "metadata": {
        "id": "hfMJBzDjp_YM",
        "colab_type": "code",
        "colab": {
          "base_uri": "https://localhost:8080/",
          "height": 204
        },
        "outputId": "c0a4bf09-43a7-4198-d5e9-780a6b846f52"
      },
      "source": [
        "data.head()"
      ],
      "execution_count": 3,
      "outputs": [
        {
          "output_type": "execute_result",
          "data": {
            "text/html": [
              "<div>\n",
              "<style scoped>\n",
              "    .dataframe tbody tr th:only-of-type {\n",
              "        vertical-align: middle;\n",
              "    }\n",
              "\n",
              "    .dataframe tbody tr th {\n",
              "        vertical-align: top;\n",
              "    }\n",
              "\n",
              "    .dataframe thead th {\n",
              "        text-align: right;\n",
              "    }\n",
              "</style>\n",
              "<table border=\"1\" class=\"dataframe\">\n",
              "  <thead>\n",
              "    <tr style=\"text-align: right;\">\n",
              "      <th></th>\n",
              "      <th>Date</th>\n",
              "      <th>Symbol</th>\n",
              "      <th>Series</th>\n",
              "      <th>Prev Close</th>\n",
              "      <th>Open</th>\n",
              "      <th>High</th>\n",
              "      <th>Low</th>\n",
              "      <th>Last</th>\n",
              "      <th>Close</th>\n",
              "      <th>VWAP</th>\n",
              "      <th>Volume</th>\n",
              "      <th>Turnover</th>\n",
              "      <th>Trades</th>\n",
              "      <th>Deliverable Volume</th>\n",
              "      <th>%Deliverble</th>\n",
              "    </tr>\n",
              "  </thead>\n",
              "  <tbody>\n",
              "    <tr>\n",
              "      <th>0</th>\n",
              "      <td>2000-01-03</td>\n",
              "      <td>RELIANCE</td>\n",
              "      <td>EQ</td>\n",
              "      <td>233.05</td>\n",
              "      <td>237.50</td>\n",
              "      <td>251.70</td>\n",
              "      <td>237.50</td>\n",
              "      <td>251.70</td>\n",
              "      <td>251.70</td>\n",
              "      <td>249.37</td>\n",
              "      <td>4456424</td>\n",
              "      <td>1.111319e+14</td>\n",
              "      <td>NaN</td>\n",
              "      <td>NaN</td>\n",
              "      <td>NaN</td>\n",
              "    </tr>\n",
              "    <tr>\n",
              "      <th>1</th>\n",
              "      <td>2000-01-04</td>\n",
              "      <td>RELIANCE</td>\n",
              "      <td>EQ</td>\n",
              "      <td>251.70</td>\n",
              "      <td>258.40</td>\n",
              "      <td>271.85</td>\n",
              "      <td>251.30</td>\n",
              "      <td>271.85</td>\n",
              "      <td>271.85</td>\n",
              "      <td>263.52</td>\n",
              "      <td>9487878</td>\n",
              "      <td>2.500222e+14</td>\n",
              "      <td>NaN</td>\n",
              "      <td>NaN</td>\n",
              "      <td>NaN</td>\n",
              "    </tr>\n",
              "    <tr>\n",
              "      <th>2</th>\n",
              "      <td>2000-01-05</td>\n",
              "      <td>RELIANCE</td>\n",
              "      <td>EQ</td>\n",
              "      <td>271.85</td>\n",
              "      <td>256.65</td>\n",
              "      <td>287.90</td>\n",
              "      <td>256.65</td>\n",
              "      <td>286.75</td>\n",
              "      <td>282.50</td>\n",
              "      <td>274.79</td>\n",
              "      <td>26833684</td>\n",
              "      <td>7.373697e+14</td>\n",
              "      <td>NaN</td>\n",
              "      <td>NaN</td>\n",
              "      <td>NaN</td>\n",
              "    </tr>\n",
              "    <tr>\n",
              "      <th>3</th>\n",
              "      <td>2000-01-06</td>\n",
              "      <td>RELIANCE</td>\n",
              "      <td>EQ</td>\n",
              "      <td>282.50</td>\n",
              "      <td>289.00</td>\n",
              "      <td>300.70</td>\n",
              "      <td>289.00</td>\n",
              "      <td>293.50</td>\n",
              "      <td>294.35</td>\n",
              "      <td>295.45</td>\n",
              "      <td>15682286</td>\n",
              "      <td>4.633254e+14</td>\n",
              "      <td>NaN</td>\n",
              "      <td>NaN</td>\n",
              "      <td>NaN</td>\n",
              "    </tr>\n",
              "    <tr>\n",
              "      <th>4</th>\n",
              "      <td>2000-01-07</td>\n",
              "      <td>RELIANCE</td>\n",
              "      <td>EQ</td>\n",
              "      <td>294.35</td>\n",
              "      <td>295.00</td>\n",
              "      <td>317.90</td>\n",
              "      <td>293.00</td>\n",
              "      <td>314.50</td>\n",
              "      <td>314.55</td>\n",
              "      <td>308.91</td>\n",
              "      <td>19870977</td>\n",
              "      <td>6.138388e+14</td>\n",
              "      <td>NaN</td>\n",
              "      <td>NaN</td>\n",
              "      <td>NaN</td>\n",
              "    </tr>\n",
              "  </tbody>\n",
              "</table>\n",
              "</div>"
            ],
            "text/plain": [
              "         Date    Symbol Series  ...  Trades  Deliverable Volume  %Deliverble\n",
              "0  2000-01-03  RELIANCE     EQ  ...     NaN                 NaN          NaN\n",
              "1  2000-01-04  RELIANCE     EQ  ...     NaN                 NaN          NaN\n",
              "2  2000-01-05  RELIANCE     EQ  ...     NaN                 NaN          NaN\n",
              "3  2000-01-06  RELIANCE     EQ  ...     NaN                 NaN          NaN\n",
              "4  2000-01-07  RELIANCE     EQ  ...     NaN                 NaN          NaN\n",
              "\n",
              "[5 rows x 15 columns]"
            ]
          },
          "metadata": {
            "tags": []
          },
          "execution_count": 3
        }
      ]
    },
    {
      "cell_type": "code",
      "metadata": {
        "id": "6IY7S4PtqGi1",
        "colab_type": "code",
        "colab": {}
      },
      "source": [
        "df=data['Open']"
      ],
      "execution_count": 0,
      "outputs": []
    },
    {
      "cell_type": "code",
      "metadata": {
        "id": "3R-PTeBiqvsF",
        "colab_type": "code",
        "colab": {
          "base_uri": "https://localhost:8080/",
          "height": 221
        },
        "outputId": "d24de209-6794-4bdc-9bda-bac51f56b4c3"
      },
      "source": [
        "df"
      ],
      "execution_count": 5,
      "outputs": [
        {
          "output_type": "execute_result",
          "data": {
            "text/plain": [
              "0        237.50\n",
              "1        258.40\n",
              "2        256.65\n",
              "3        289.00\n",
              "4        295.00\n",
              "         ...   \n",
              "5054    1350.15\n",
              "5055    1434.00\n",
              "5056    1450.00\n",
              "5057    1444.90\n",
              "5058    1453.95\n",
              "Name: Open, Length: 5059, dtype: float64"
            ]
          },
          "metadata": {
            "tags": []
          },
          "execution_count": 5
        }
      ]
    },
    {
      "cell_type": "code",
      "metadata": {
        "id": "rvbYHbL7qxJF",
        "colab_type": "code",
        "colab": {}
      },
      "source": [
        "scaler=MinMaxScaler()\n",
        "df=scaler.fit_transform(np.array(df).reshape(-1,1))"
      ],
      "execution_count": 0,
      "outputs": []
    },
    {
      "cell_type": "code",
      "metadata": {
        "id": "A4JE7ayYrw3s",
        "colab_type": "code",
        "colab": {
          "base_uri": "https://localhost:8080/",
          "height": 136
        },
        "outputId": "9528698f-8f60-4901-8970-4dc9f77f0cbb"
      },
      "source": [
        "df"
      ],
      "execution_count": 7,
      "outputs": [
        {
          "output_type": "execute_result",
          "data": {
            "text/plain": [
              "array([[0.01034762],\n",
              "       [0.0171059 ],\n",
              "       [0.01654002],\n",
              "       ...,\n",
              "       [0.40242522],\n",
              "       [0.40077607],\n",
              "       [0.40370251]])"
            ]
          },
          "metadata": {
            "tags": []
          },
          "execution_count": 7
        }
      ]
    },
    {
      "cell_type": "code",
      "metadata": {
        "id": "V6S-aKVJryrk",
        "colab_type": "code",
        "colab": {}
      },
      "source": [
        "split = int(0.75*len(df))"
      ],
      "execution_count": 0,
      "outputs": []
    },
    {
      "cell_type": "code",
      "metadata": {
        "id": "6Pa4n6oLs87m",
        "colab_type": "code",
        "colab": {}
      },
      "source": [
        "train=df[0:split]\n",
        "test=df[split:]"
      ],
      "execution_count": 0,
      "outputs": []
    },
    {
      "cell_type": "code",
      "metadata": {
        "id": "smpBhly-tpRS",
        "colab_type": "code",
        "colab": {}
      },
      "source": [
        "def dataset(data, time_step):\n",
        "\tdataX, dataY = [], []\n",
        "\tfor i in range(len(data)-time_step-1):\n",
        "\t\ta = data[i:(i+time_step), 0]   \n",
        "\t\tdataX.append(a)\n",
        "\t\tdataY.append(data[i + time_step, 0])\n",
        "\treturn np.array(dataX), np.array(dataY)"
      ],
      "execution_count": 0,
      "outputs": []
    },
    {
      "cell_type": "code",
      "metadata": {
        "id": "6Dm0gnZBtzyx",
        "colab_type": "code",
        "colab": {}
      },
      "source": [
        "time_step = 100\n",
        "x_train, y_train = dataset(train, time_step)\n",
        "x_test, y_test = dataset(test, time_step)"
      ],
      "execution_count": 0,
      "outputs": []
    },
    {
      "cell_type": "code",
      "metadata": {
        "id": "3ZF2ndDsvrWE",
        "colab_type": "code",
        "colab": {
          "base_uri": "https://localhost:8080/",
          "height": 51
        },
        "outputId": "3e774389-7af5-466f-8ff9-01b68d0071d0"
      },
      "source": [
        "print(y_train.shape)\n",
        "x_train.shape"
      ],
      "execution_count": 21,
      "outputs": [
        {
          "output_type": "stream",
          "text": [
            "(3693,)\n"
          ],
          "name": "stdout"
        },
        {
          "output_type": "execute_result",
          "data": {
            "text/plain": [
              "(3693, 100)"
            ]
          },
          "metadata": {
            "tags": []
          },
          "execution_count": 21
        }
      ]
    },
    {
      "cell_type": "code",
      "metadata": {
        "id": "9WFoxxJAv_3D",
        "colab_type": "code",
        "colab": {
          "base_uri": "https://localhost:8080/",
          "height": 238
        },
        "outputId": "7e149788-6c81-4022-aa6f-16133dd94a21"
      },
      "source": [
        "x_train"
      ],
      "execution_count": 22,
      "outputs": [
        {
          "output_type": "execute_result",
          "data": {
            "text/plain": [
              "array([[0.01034762, 0.0171059 , 0.01654002, ..., 0.03453517, 0.03534357,\n",
              "        0.03654002],\n",
              "       [0.0171059 , 0.01654002, 0.02700081, ..., 0.03534357, 0.03654002,\n",
              "        0.04373484],\n",
              "       [0.01654002, 0.02700081, 0.02894099, ..., 0.03654002, 0.04373484,\n",
              "        0.04704931],\n",
              "       ...,\n",
              "       [0.24455942, 0.25012126, 0.24127728, ..., 0.22215036, 0.21975748,\n",
              "        0.21453517],\n",
              "       [0.25012126, 0.24127728, 0.23621665, ..., 0.21975748, 0.21453517,\n",
              "        0.21194826],\n",
              "       [0.24127728, 0.23621665, 0.23702506, ..., 0.21453517, 0.21194826,\n",
              "        0.21099434]])"
            ]
          },
          "metadata": {
            "tags": []
          },
          "execution_count": 22
        }
      ]
    },
    {
      "cell_type": "code",
      "metadata": {
        "id": "Xm4_f6ZdwkO_",
        "colab_type": "code",
        "colab": {}
      },
      "source": [
        "x_train =x_train.reshape(x_train.shape[0],x_train.shape[1] , 1)\n",
        "x_test = x_test.reshape(x_test.shape[0],x_test.shape[1] , 1)"
      ],
      "execution_count": 0,
      "outputs": []
    },
    {
      "cell_type": "code",
      "metadata": {
        "id": "2BD3Sjvywyej",
        "colab_type": "code",
        "colab": {
          "base_uri": "https://localhost:8080/",
          "height": 850
        },
        "outputId": "49522d07-5ded-46b7-ee9b-e718901a499c"
      },
      "source": [
        "x_train"
      ],
      "execution_count": 24,
      "outputs": [
        {
          "output_type": "execute_result",
          "data": {
            "text/plain": [
              "array([[[0.01034762],\n",
              "        [0.0171059 ],\n",
              "        [0.01654002],\n",
              "        ...,\n",
              "        [0.03453517],\n",
              "        [0.03534357],\n",
              "        [0.03654002]],\n",
              "\n",
              "       [[0.0171059 ],\n",
              "        [0.01654002],\n",
              "        [0.02700081],\n",
              "        ...,\n",
              "        [0.03534357],\n",
              "        [0.03654002],\n",
              "        [0.04373484]],\n",
              "\n",
              "       [[0.01654002],\n",
              "        [0.02700081],\n",
              "        [0.02894099],\n",
              "        ...,\n",
              "        [0.03654002],\n",
              "        [0.04373484],\n",
              "        [0.04704931]],\n",
              "\n",
              "       ...,\n",
              "\n",
              "       [[0.24455942],\n",
              "        [0.25012126],\n",
              "        [0.24127728],\n",
              "        ...,\n",
              "        [0.22215036],\n",
              "        [0.21975748],\n",
              "        [0.21453517]],\n",
              "\n",
              "       [[0.25012126],\n",
              "        [0.24127728],\n",
              "        [0.23621665],\n",
              "        ...,\n",
              "        [0.21975748],\n",
              "        [0.21453517],\n",
              "        [0.21194826]],\n",
              "\n",
              "       [[0.24127728],\n",
              "        [0.23621665],\n",
              "        [0.23702506],\n",
              "        ...,\n",
              "        [0.21453517],\n",
              "        [0.21194826],\n",
              "        [0.21099434]]])"
            ]
          },
          "metadata": {
            "tags": []
          },
          "execution_count": 24
        }
      ]
    },
    {
      "cell_type": "code",
      "metadata": {
        "id": "U2dCeGvVwz5i",
        "colab_type": "code",
        "colab": {}
      },
      "source": [
        "from tensorflow.keras.models import Sequential\n",
        "from tensorflow.keras.layers import Dense\n",
        "from tensorflow.keras.layers import LSTM"
      ],
      "execution_count": 0,
      "outputs": []
    },
    {
      "cell_type": "code",
      "metadata": {
        "id": "quJK3aXiw_0E",
        "colab_type": "code",
        "colab": {}
      },
      "source": [
        "model=Sequential()\n",
        "model.add(LSTM(50,return_sequences=True,input_shape=(100,1)))\n",
        "model.add(LSTM(50,return_sequences=True))\n",
        "model.add(LSTM(50))\n",
        "model.add(Dense(1))\n",
        "model.compile(loss='mean_squared_error',optimizer='adam')"
      ],
      "execution_count": 0,
      "outputs": []
    },
    {
      "cell_type": "code",
      "metadata": {
        "id": "KYpJa8awy5Z7",
        "colab_type": "code",
        "colab": {
          "base_uri": "https://localhost:8080/",
          "height": 289
        },
        "outputId": "7fcedfd8-2370-4653-8775-3b5fb4cb71e7"
      },
      "source": [
        "model.summary()"
      ],
      "execution_count": 27,
      "outputs": [
        {
          "output_type": "stream",
          "text": [
            "Model: \"sequential_1\"\n",
            "_________________________________________________________________\n",
            "Layer (type)                 Output Shape              Param #   \n",
            "=================================================================\n",
            "lstm_3 (LSTM)                (None, 100, 50)           10400     \n",
            "_________________________________________________________________\n",
            "lstm_4 (LSTM)                (None, 100, 50)           20200     \n",
            "_________________________________________________________________\n",
            "lstm_5 (LSTM)                (None, 50)                20200     \n",
            "_________________________________________________________________\n",
            "dense_1 (Dense)              (None, 1)                 51        \n",
            "=================================================================\n",
            "Total params: 50,851\n",
            "Trainable params: 50,851\n",
            "Non-trainable params: 0\n",
            "_________________________________________________________________\n"
          ],
          "name": "stdout"
        }
      ]
    },
    {
      "cell_type": "code",
      "metadata": {
        "id": "kfb16zGKy8BC",
        "colab_type": "code",
        "colab": {
          "base_uri": "https://localhost:8080/",
          "height": 1000
        },
        "outputId": "cb79c3b6-830b-41b8-e59e-f4ec1fcf259d"
      },
      "source": [
        "model.fit(x_train,y_train,validation_data=(x_test,y_test),epochs=100,batch_size=64,verbose=1)"
      ],
      "execution_count": 28,
      "outputs": [
        {
          "output_type": "stream",
          "text": [
            "Epoch 1/100\n",
            "58/58 [==============================] - 2s 33ms/step - loss: 0.0073 - val_loss: 0.0010\n",
            "Epoch 2/100\n",
            "58/58 [==============================] - 1s 17ms/step - loss: 0.0011 - val_loss: 0.0011\n",
            "Epoch 3/100\n",
            "58/58 [==============================] - 1s 17ms/step - loss: 9.7471e-04 - val_loss: 8.8244e-04\n",
            "Epoch 4/100\n",
            "58/58 [==============================] - 1s 17ms/step - loss: 8.6050e-04 - val_loss: 7.7236e-04\n",
            "Epoch 5/100\n",
            "58/58 [==============================] - 1s 17ms/step - loss: 7.3953e-04 - val_loss: 9.9297e-04\n",
            "Epoch 6/100\n",
            "58/58 [==============================] - 1s 17ms/step - loss: 7.3321e-04 - val_loss: 6.2689e-04\n",
            "Epoch 7/100\n",
            "58/58 [==============================] - 1s 17ms/step - loss: 6.6747e-04 - val_loss: 5.6733e-04\n",
            "Epoch 8/100\n",
            "58/58 [==============================] - 1s 17ms/step - loss: 5.5885e-04 - val_loss: 5.2673e-04\n",
            "Epoch 9/100\n",
            "58/58 [==============================] - 1s 17ms/step - loss: 6.1130e-04 - val_loss: 6.9687e-04\n",
            "Epoch 10/100\n",
            "58/58 [==============================] - 1s 18ms/step - loss: 5.0553e-04 - val_loss: 5.5884e-04\n",
            "Epoch 11/100\n",
            "58/58 [==============================] - 1s 17ms/step - loss: 4.8642e-04 - val_loss: 5.2962e-04\n",
            "Epoch 12/100\n",
            "58/58 [==============================] - 1s 17ms/step - loss: 4.5693e-04 - val_loss: 3.8103e-04\n",
            "Epoch 13/100\n",
            "58/58 [==============================] - 1s 17ms/step - loss: 4.4251e-04 - val_loss: 4.1530e-04\n",
            "Epoch 14/100\n",
            "58/58 [==============================] - 1s 17ms/step - loss: 4.6458e-04 - val_loss: 3.9414e-04\n",
            "Epoch 15/100\n",
            "58/58 [==============================] - 1s 17ms/step - loss: 4.1457e-04 - val_loss: 5.1175e-04\n",
            "Epoch 16/100\n",
            "58/58 [==============================] - 1s 17ms/step - loss: 3.9146e-04 - val_loss: 3.4359e-04\n",
            "Epoch 17/100\n",
            "58/58 [==============================] - 1s 17ms/step - loss: 3.4682e-04 - val_loss: 2.8489e-04\n",
            "Epoch 18/100\n",
            "58/58 [==============================] - 1s 17ms/step - loss: 3.6216e-04 - val_loss: 3.0538e-04\n",
            "Epoch 19/100\n",
            "58/58 [==============================] - 1s 17ms/step - loss: 3.0626e-04 - val_loss: 2.7173e-04\n",
            "Epoch 20/100\n",
            "58/58 [==============================] - 1s 17ms/step - loss: 2.9220e-04 - val_loss: 2.4544e-04\n",
            "Epoch 21/100\n",
            "58/58 [==============================] - 1s 18ms/step - loss: 3.1921e-04 - val_loss: 3.7084e-04\n",
            "Epoch 22/100\n",
            "58/58 [==============================] - 1s 18ms/step - loss: 2.8229e-04 - val_loss: 2.5478e-04\n",
            "Epoch 23/100\n",
            "58/58 [==============================] - 1s 18ms/step - loss: 2.7386e-04 - val_loss: 2.2235e-04\n",
            "Epoch 24/100\n",
            "58/58 [==============================] - 1s 18ms/step - loss: 2.6608e-04 - val_loss: 2.1834e-04\n",
            "Epoch 25/100\n",
            "58/58 [==============================] - 1s 18ms/step - loss: 2.5962e-04 - val_loss: 2.0672e-04\n",
            "Epoch 26/100\n",
            "58/58 [==============================] - 1s 18ms/step - loss: 2.6792e-04 - val_loss: 1.9469e-04\n",
            "Epoch 27/100\n",
            "58/58 [==============================] - 1s 18ms/step - loss: 2.3596e-04 - val_loss: 1.8107e-04\n",
            "Epoch 28/100\n",
            "58/58 [==============================] - 1s 18ms/step - loss: 2.5096e-04 - val_loss: 1.7794e-04\n",
            "Epoch 29/100\n",
            "58/58 [==============================] - 1s 18ms/step - loss: 2.2215e-04 - val_loss: 2.0506e-04\n",
            "Epoch 30/100\n",
            "58/58 [==============================] - 1s 18ms/step - loss: 2.3531e-04 - val_loss: 1.7477e-04\n",
            "Epoch 31/100\n",
            "58/58 [==============================] - 1s 17ms/step - loss: 2.3242e-04 - val_loss: 3.5962e-04\n",
            "Epoch 32/100\n",
            "58/58 [==============================] - 1s 17ms/step - loss: 3.6885e-04 - val_loss: 1.8538e-04\n",
            "Epoch 33/100\n",
            "58/58 [==============================] - 1s 17ms/step - loss: 2.1652e-04 - val_loss: 1.9623e-04\n",
            "Epoch 34/100\n",
            "58/58 [==============================] - 1s 17ms/step - loss: 1.9868e-04 - val_loss: 1.6342e-04\n",
            "Epoch 35/100\n",
            "58/58 [==============================] - 1s 18ms/step - loss: 2.1023e-04 - val_loss: 1.5340e-04\n",
            "Epoch 36/100\n",
            "58/58 [==============================] - 1s 17ms/step - loss: 2.0904e-04 - val_loss: 1.5800e-04\n",
            "Epoch 37/100\n",
            "58/58 [==============================] - 1s 17ms/step - loss: 2.0827e-04 - val_loss: 1.4827e-04\n",
            "Epoch 38/100\n",
            "58/58 [==============================] - 1s 17ms/step - loss: 2.3798e-04 - val_loss: 1.5365e-04\n",
            "Epoch 39/100\n",
            "58/58 [==============================] - 1s 17ms/step - loss: 2.0476e-04 - val_loss: 2.1527e-04\n",
            "Epoch 40/100\n",
            "58/58 [==============================] - 1s 18ms/step - loss: 2.1777e-04 - val_loss: 1.3682e-04\n",
            "Epoch 41/100\n",
            "58/58 [==============================] - 1s 17ms/step - loss: 2.2418e-04 - val_loss: 2.4688e-04\n",
            "Epoch 42/100\n",
            "58/58 [==============================] - 1s 17ms/step - loss: 1.9956e-04 - val_loss: 1.6957e-04\n",
            "Epoch 43/100\n",
            "58/58 [==============================] - 1s 18ms/step - loss: 1.9755e-04 - val_loss: 1.3578e-04\n",
            "Epoch 44/100\n",
            "58/58 [==============================] - 1s 17ms/step - loss: 1.8753e-04 - val_loss: 1.4374e-04\n",
            "Epoch 45/100\n",
            "58/58 [==============================] - 1s 17ms/step - loss: 2.3436e-04 - val_loss: 1.5765e-04\n",
            "Epoch 46/100\n",
            "58/58 [==============================] - 1s 18ms/step - loss: 2.1712e-04 - val_loss: 1.6051e-04\n",
            "Epoch 47/100\n",
            "58/58 [==============================] - 1s 17ms/step - loss: 1.9021e-04 - val_loss: 1.3578e-04\n",
            "Epoch 48/100\n",
            "58/58 [==============================] - 1s 17ms/step - loss: 1.9619e-04 - val_loss: 2.0875e-04\n",
            "Epoch 49/100\n",
            "58/58 [==============================] - 1s 17ms/step - loss: 2.0144e-04 - val_loss: 1.2782e-04\n",
            "Epoch 50/100\n",
            "58/58 [==============================] - 1s 17ms/step - loss: 1.9026e-04 - val_loss: 1.4199e-04\n",
            "Epoch 51/100\n",
            "58/58 [==============================] - 1s 17ms/step - loss: 1.8812e-04 - val_loss: 1.3655e-04\n",
            "Epoch 52/100\n",
            "58/58 [==============================] - 1s 17ms/step - loss: 1.8364e-04 - val_loss: 1.7424e-04\n",
            "Epoch 53/100\n",
            "58/58 [==============================] - 1s 17ms/step - loss: 2.2753e-04 - val_loss: 1.3732e-04\n",
            "Epoch 54/100\n",
            "58/58 [==============================] - 1s 18ms/step - loss: 2.5249e-04 - val_loss: 1.5477e-04\n",
            "Epoch 55/100\n",
            "58/58 [==============================] - 1s 17ms/step - loss: 1.9668e-04 - val_loss: 1.2777e-04\n",
            "Epoch 56/100\n",
            "58/58 [==============================] - 1s 17ms/step - loss: 1.8999e-04 - val_loss: 2.1094e-04\n",
            "Epoch 57/100\n",
            "58/58 [==============================] - 1s 17ms/step - loss: 1.9993e-04 - val_loss: 2.1631e-04\n",
            "Epoch 58/100\n",
            "58/58 [==============================] - 1s 17ms/step - loss: 2.1000e-04 - val_loss: 2.6793e-04\n",
            "Epoch 59/100\n",
            "58/58 [==============================] - 1s 17ms/step - loss: 1.9553e-04 - val_loss: 1.2365e-04\n",
            "Epoch 60/100\n",
            "58/58 [==============================] - 1s 17ms/step - loss: 1.8806e-04 - val_loss: 2.9582e-04\n",
            "Epoch 61/100\n",
            "58/58 [==============================] - 1s 17ms/step - loss: 2.0508e-04 - val_loss: 1.9461e-04\n",
            "Epoch 62/100\n",
            "58/58 [==============================] - 1s 17ms/step - loss: 1.8106e-04 - val_loss: 1.3518e-04\n",
            "Epoch 63/100\n",
            "58/58 [==============================] - 1s 17ms/step - loss: 1.7564e-04 - val_loss: 1.2080e-04\n",
            "Epoch 64/100\n",
            "58/58 [==============================] - 1s 18ms/step - loss: 2.0258e-04 - val_loss: 1.2267e-04\n",
            "Epoch 65/100\n",
            "58/58 [==============================] - 1s 17ms/step - loss: 1.9781e-04 - val_loss: 1.2302e-04\n",
            "Epoch 66/100\n",
            "58/58 [==============================] - 1s 17ms/step - loss: 1.7767e-04 - val_loss: 1.3433e-04\n",
            "Epoch 67/100\n",
            "58/58 [==============================] - 1s 17ms/step - loss: 1.8745e-04 - val_loss: 2.0243e-04\n",
            "Epoch 68/100\n",
            "58/58 [==============================] - 1s 17ms/step - loss: 2.0613e-04 - val_loss: 1.2351e-04\n",
            "Epoch 69/100\n",
            "58/58 [==============================] - 1s 18ms/step - loss: 1.9788e-04 - val_loss: 1.2731e-04\n",
            "Epoch 70/100\n",
            "58/58 [==============================] - 1s 17ms/step - loss: 1.8414e-04 - val_loss: 1.2118e-04\n",
            "Epoch 71/100\n",
            "58/58 [==============================] - 1s 17ms/step - loss: 1.9466e-04 - val_loss: 1.8193e-04\n",
            "Epoch 72/100\n",
            "58/58 [==============================] - 1s 17ms/step - loss: 2.1078e-04 - val_loss: 1.2437e-04\n",
            "Epoch 73/100\n",
            "58/58 [==============================] - 1s 18ms/step - loss: 1.8146e-04 - val_loss: 1.3820e-04\n",
            "Epoch 74/100\n",
            "58/58 [==============================] - 1s 17ms/step - loss: 1.7165e-04 - val_loss: 1.4019e-04\n",
            "Epoch 75/100\n",
            "58/58 [==============================] - 1s 17ms/step - loss: 1.8222e-04 - val_loss: 1.5642e-04\n",
            "Epoch 76/100\n",
            "58/58 [==============================] - 1s 17ms/step - loss: 1.8782e-04 - val_loss: 1.1954e-04\n",
            "Epoch 77/100\n",
            "58/58 [==============================] - 1s 17ms/step - loss: 2.0088e-04 - val_loss: 1.3376e-04\n",
            "Epoch 78/100\n",
            "58/58 [==============================] - 1s 17ms/step - loss: 1.9133e-04 - val_loss: 1.3562e-04\n",
            "Epoch 79/100\n",
            "58/58 [==============================] - 1s 17ms/step - loss: 1.9827e-04 - val_loss: 1.3161e-04\n",
            "Epoch 80/100\n",
            "58/58 [==============================] - 1s 17ms/step - loss: 1.9594e-04 - val_loss: 1.3237e-04\n",
            "Epoch 81/100\n",
            "58/58 [==============================] - 1s 18ms/step - loss: 1.7664e-04 - val_loss: 1.1556e-04\n",
            "Epoch 82/100\n",
            "58/58 [==============================] - 1s 17ms/step - loss: 1.7534e-04 - val_loss: 1.1748e-04\n",
            "Epoch 83/100\n",
            "58/58 [==============================] - 1s 18ms/step - loss: 1.8504e-04 - val_loss: 1.2131e-04\n",
            "Epoch 84/100\n",
            "58/58 [==============================] - 1s 17ms/step - loss: 1.8718e-04 - val_loss: 1.2690e-04\n",
            "Epoch 85/100\n",
            "58/58 [==============================] - 1s 17ms/step - loss: 1.9595e-04 - val_loss: 2.0958e-04\n",
            "Epoch 86/100\n",
            "58/58 [==============================] - 1s 17ms/step - loss: 2.0818e-04 - val_loss: 1.4645e-04\n",
            "Epoch 87/100\n",
            "58/58 [==============================] - 1s 17ms/step - loss: 2.0484e-04 - val_loss: 1.6497e-04\n",
            "Epoch 88/100\n",
            "58/58 [==============================] - 1s 17ms/step - loss: 1.9589e-04 - val_loss: 1.2024e-04\n",
            "Epoch 89/100\n",
            "58/58 [==============================] - 1s 17ms/step - loss: 1.9612e-04 - val_loss: 1.1543e-04\n",
            "Epoch 90/100\n",
            "58/58 [==============================] - 1s 17ms/step - loss: 1.8816e-04 - val_loss: 1.9523e-04\n",
            "Epoch 91/100\n",
            "58/58 [==============================] - 1s 17ms/step - loss: 1.8479e-04 - val_loss: 2.0737e-04\n",
            "Epoch 92/100\n",
            "58/58 [==============================] - 1s 18ms/step - loss: 1.9907e-04 - val_loss: 1.3921e-04\n",
            "Epoch 93/100\n",
            "58/58 [==============================] - 1s 18ms/step - loss: 2.1613e-04 - val_loss: 1.5337e-04\n",
            "Epoch 94/100\n",
            "58/58 [==============================] - 1s 18ms/step - loss: 2.1108e-04 - val_loss: 1.9784e-04\n",
            "Epoch 95/100\n",
            "58/58 [==============================] - 1s 17ms/step - loss: 2.0001e-04 - val_loss: 1.2092e-04\n",
            "Epoch 96/100\n",
            "58/58 [==============================] - 1s 17ms/step - loss: 1.7880e-04 - val_loss: 1.5910e-04\n",
            "Epoch 97/100\n",
            "58/58 [==============================] - 1s 17ms/step - loss: 1.8822e-04 - val_loss: 1.3005e-04\n",
            "Epoch 98/100\n",
            "58/58 [==============================] - 1s 17ms/step - loss: 1.7820e-04 - val_loss: 1.3225e-04\n",
            "Epoch 99/100\n",
            "58/58 [==============================] - 1s 17ms/step - loss: 2.0469e-04 - val_loss: 1.1903e-04\n",
            "Epoch 100/100\n",
            "58/58 [==============================] - 1s 18ms/step - loss: 1.7347e-04 - val_loss: 2.1914e-04\n"
          ],
          "name": "stdout"
        },
        {
          "output_type": "execute_result",
          "data": {
            "text/plain": [
              "<tensorflow.python.keras.callbacks.History at 0x7f012b5ae1d0>"
            ]
          },
          "metadata": {
            "tags": []
          },
          "execution_count": 28
        }
      ]
    },
    {
      "cell_type": "code",
      "metadata": {
        "id": "eDn07gny0Q2d",
        "colab_type": "code",
        "colab": {}
      },
      "source": [
        "train_predict=scaler.inverse_transform(model.predict(x_train))\n",
        "test_predict=scaler.inverse_transform(model.predict(x_test))"
      ],
      "execution_count": 0,
      "outputs": []
    },
    {
      "cell_type": "code",
      "metadata": {
        "id": "8ofE0OFK08hU",
        "colab_type": "code",
        "colab": {
          "base_uri": "https://localhost:8080/",
          "height": 863
        },
        "outputId": "a94b1924-368d-4bcf-b3af-b20a29de7195"
      },
      "source": [
        "look_back=100\n",
        "trainPredictPlot = np.empty_like(df)\n",
        "trainPredictPlot[:, :] = np.nan\n",
        "trainPredictPlot[look_back:len(train_predict)+look_back, :] = train_predict\n",
        "\n",
        "testPredictPlot = np.empty_like(df)\n",
        "testPredictPlot[:, :] = np.nan\n",
        "testPredictPlot[len(train_predict)+(look_back*2)+1:len(df)-1, :] = test_predict\n",
        "\n",
        "plt.figure(figsize=(20,15))\n",
        "plt.plot(scaler.inverse_transform(df))\n",
        "plt.plot(trainPredictPlot)\n",
        "plt.plot(testPredictPlot)\n",
        "plt.show()"
      ],
      "execution_count": 36,
      "outputs": [
        {
          "output_type": "display_data",
          "data": {
            "image/png": "[encoded data removed]",
            "text/plain": [
              "<Figure size 1440x1080 with 1 Axes>"
            ]
          },
          "metadata": {
            "tags": [],
            "needs_background": "light"
          }
        }
      ]
    },
    {
      "cell_type": "code",
      "metadata": {
        "id": "4RBnec572jkL",
        "colab_type": "code",
        "colab": {}
      },
      "source": [
        ""
      ],
      "execution_count": 0,
      "outputs": []
    }
  ]
}